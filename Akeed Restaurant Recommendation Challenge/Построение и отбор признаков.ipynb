{
 "cells": [
  {
   "cell_type": "markdown",
   "metadata": {},
   "source": [
    "# Домашнее задание 4. Подготовил Шаланким М.Д. ФТиАД 2019"
   ]
  },
  {
   "cell_type": "markdown",
   "metadata": {},
   "source": [
    "### Библиотеки"
   ]
  },
  {
   "cell_type": "code",
   "execution_count": 86,
   "metadata": {},
   "outputs": [
    {
     "data": {
      "application/javascript": [
       "IPython.notebook.set_autosave_interval(900000)"
      ]
     },
     "metadata": {},
     "output_type": "display_data"
    },
    {
     "name": "stdout",
     "output_type": "stream",
     "text": [
      "Autosaving every 900 seconds\n"
     ]
    }
   ],
   "source": [
    "%autosave 900\n",
    "%matplotlib inline\n",
    "\n",
    "import pandas as pd\n",
    "import numpy as np\n",
    "import matplotlib.pyplot as plt\n",
    "import warnings\n",
    "# pip install missingno\n",
    "import missingno as mi"
   ]
  },
  {
   "cell_type": "code",
   "execution_count": null,
   "metadata": {},
   "outputs": [],
   "source": []
  },
  {
   "cell_type": "markdown",
   "metadata": {},
   "source": [
    "### Переменные"
   ]
  },
  {
   "cell_type": "code",
   "execution_count": 15,
   "metadata": {},
   "outputs": [],
   "source": [
    "dir_data = \"D:\\\\Storage\\\\Data Science\\\\GIT\\\\Kaggle-Competitions\\\\Akeed Restaurant Recommendation Challenge\\\\data\\\\\""
   ]
  },
  {
   "cell_type": "markdown",
   "metadata": {},
   "source": [
    "### Данные"
   ]
  },
  {
   "cell_type": "code",
   "execution_count": 16,
   "metadata": {},
   "outputs": [],
   "source": [
    "orders = pd.read_csv(dir_data + 'orders.csv')\n",
    "sample = pd.read_csv(dir_data + 'SampleSubmission.csv')\n",
    "test_customers = pd.read_csv(dir_data + 'test_customers.csv')\n",
    "test_locations = pd.read_csv(dir_data + 'test_locations.csv')\n",
    "train_customers = pd.read_csv(dir_data + 'train_customers.csv')\n",
    "train_locations = pd.read_csv(dir_data + 'train_locations.csv')\n",
    "vendors = pd.read_csv(dir_data + 'vendors.csv')\n",
    "# orders, sample, test_customers, test_locations, train_customers, train_locations, vendors"
   ]
  },
  {
   "cell_type": "markdown",
   "metadata": {},
   "source": [
    "# 2. Построение и отбор признаков (4 балла) \n",
    "_______________\n",
    "Желательно построить разнообразные признаки, а также признаки, специфические для данной задачи (например, по истории заказов клиентов). Попробуйте также определить и выделить самые информативные из них. Предлагаем также испробовать подходы из NLP: попробовать в качестве признаков TFiDF-преобразование каких-то исходных признаков, вариации word2vec и т.п."
   ]
  },
  {
   "cell_type": "code",
   "execution_count": null,
   "metadata": {},
   "outputs": [],
   "source": []
  },
  {
   "cell_type": "code",
   "execution_count": null,
   "metadata": {},
   "outputs": [],
   "source": []
  },
  {
   "cell_type": "code",
   "execution_count": null,
   "metadata": {},
   "outputs": [],
   "source": []
  },
  {
   "cell_type": "code",
   "execution_count": null,
   "metadata": {},
   "outputs": [],
   "source": []
  }
 ],
 "metadata": {
  "kernelspec": {
   "display_name": "Python 3",
   "language": "python",
   "name": "python3"
  },
  "language_info": {
   "codemirror_mode": {
    "name": "ipython",
    "version": 3
   },
   "file_extension": ".py",
   "mimetype": "text/x-python",
   "name": "python",
   "nbconvert_exporter": "python",
   "pygments_lexer": "ipython3",
   "version": "3.7.3"
  }
 },
 "nbformat": 4,
 "nbformat_minor": 2
}
